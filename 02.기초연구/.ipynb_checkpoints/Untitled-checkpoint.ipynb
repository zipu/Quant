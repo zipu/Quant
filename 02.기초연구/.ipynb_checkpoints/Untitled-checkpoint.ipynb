{
 "cells": [
  {
   "cell_type": "code",
   "execution_count": 2,
   "metadata": {},
   "outputs": [],
   "source": [
    "import os, sys, pickle\n",
    "sys.path.append('../')\n",
    "sys.path.append('../01_Data')\n",
    "import tables as tb\n",
    "import numpy as np\n",
    "import pandas as pd\n",
    "import matplotlib.pyplot as plt\n",
    "from models import Products, Product\n",
    "from tools import ohlc_chart"
   ]
  },
  {
   "cell_type": "code",
   "execution_count": 4,
   "metadata": {},
   "outputs": [],
   "source": [
    "DB_DIR = os.path.join(os.getcwd(), '..', '01_Data')\n",
    "ohlcfile = os.path.join(DB_DIR,'futures.db')\n",
    "products = pickle.load(open(os.path.join(DB_DIR, 'products.pkl'),'rb')) #파일 로드"
   ]
  },
  {
   "cell_type": "code",
   "execution_count": null,
   "metadata": {},
   "outputs": [],
   "source": []
  },
  {
   "cell_type": "code",
   "execution_count": 129,
   "metadata": {},
   "outputs": [],
   "source": [
    "def ohlc_chart(ax, quotes, linewidth=1, colors=['k','k'], background='lightgoldenrodyellow'):\n",
    "    \n",
    "    cond = quotes['close']>= quotes['open']\n",
    "    #x축 세팅 bar와 bar사이의 간격 설정\n",
    "    if quotes.index.dtype == 'M8[ns]':\n",
    "        offset = np.timedelta64(8, 'h')\n",
    "    elif quotes.index.dtype == 'int32':\n",
    "        offset = 0.3\n",
    "    \n",
    "    #상승bar drawing\n",
    "    for i, data in enumerate(iter([quotes[cond], quotes[~cond]])):\n",
    "        dates = data.index\n",
    "        ax.vlines(dates, data['low'], data['high'], linewidth=linewidth, color=colors[i])\n",
    "        ax.hlines(data['open'], dates-offset, dates, linewidth=linewidth, color=colors[i])\n",
    "        ax.hlines(data['close'], dates, dates+offset, linewidth=linewidth, color=colors[i])\n",
    "    \n",
    "    #style\n",
    "    ax.grid(linestyle='--')\n",
    "    ax.set_facecolor(background)\n",
    "    ax.yaxis.tick_right()\n",
    "    ax.xaxis.set_major_locator(mdates.MonthLocator())\n",
    "    ax.xaxis.set_minor_locator(mdates.DayLocator())\n",
    "    ax.xaxis.set_major_formatter(mdates.DateFormatter('%Y-%m'))\n",
    "    \n",
    "    return ax"
   ]
  },
  {
   "cell_type": "code",
   "execution_count": 5,
   "metadata": {},
   "outputs": [],
   "source": [
    "data = products['ZW'].ohlc()\n",
    "df = pd.DataFrame(data)\n",
    "df.set_index(df['date'].astype('M8[D]'), inplace=True)"
   ]
  },
  {
   "cell_type": "code",
   "execution_count": 5,
   "metadata": {},
   "outputs": [
    {
     "ename": "NameError",
     "evalue": "name 'df' is not defined",
     "output_type": "error",
     "traceback": [
      "\u001b[1;31m---------------------------------------------------------------------------\u001b[0m",
      "\u001b[1;31mNameError\u001b[0m                                 Traceback (most recent call last)",
      "\u001b[1;32m<ipython-input-5-15a0608ba71a>\u001b[0m in \u001b[0;36m<module>\u001b[1;34m\u001b[0m\n\u001b[0;32m      1\u001b[0m \u001b[0mfig\u001b[0m \u001b[1;33m=\u001b[0m \u001b[0mplt\u001b[0m\u001b[1;33m.\u001b[0m\u001b[0mfigure\u001b[0m\u001b[1;33m(\u001b[0m\u001b[0mfigsize\u001b[0m\u001b[1;33m=\u001b[0m\u001b[1;33m(\u001b[0m\u001b[1;36m8\u001b[0m\u001b[1;33m,\u001b[0m\u001b[1;36m5\u001b[0m\u001b[1;33m)\u001b[0m\u001b[1;33m)\u001b[0m\u001b[1;33m\u001b[0m\u001b[1;33m\u001b[0m\u001b[0m\n\u001b[0;32m      2\u001b[0m \u001b[0max\u001b[0m \u001b[1;33m=\u001b[0m \u001b[0mplt\u001b[0m\u001b[1;33m.\u001b[0m\u001b[0mgca\u001b[0m\u001b[1;33m(\u001b[0m\u001b[1;33m)\u001b[0m\u001b[1;33m\u001b[0m\u001b[1;33m\u001b[0m\u001b[0m\n\u001b[1;32m----> 3\u001b[1;33m \u001b[0mohlc_chart\u001b[0m\u001b[1;33m(\u001b[0m\u001b[0max\u001b[0m\u001b[1;33m,\u001b[0m \u001b[0mdf\u001b[0m\u001b[1;33m,\u001b[0m \u001b[0mcolors\u001b[0m\u001b[1;33m=\u001b[0m\u001b[1;33m[\u001b[0m\u001b[1;34m'r'\u001b[0m\u001b[1;33m,\u001b[0m\u001b[1;34m'b'\u001b[0m\u001b[1;33m]\u001b[0m\u001b[1;33m)\u001b[0m\u001b[1;33m\u001b[0m\u001b[1;33m\u001b[0m\u001b[0m\n\u001b[0m\u001b[0;32m      4\u001b[0m \u001b[0mfig\u001b[0m\u001b[1;33m.\u001b[0m\u001b[0mautofmt_xdate\u001b[0m\u001b[1;33m(\u001b[0m\u001b[1;33m)\u001b[0m\u001b[1;33m\u001b[0m\u001b[1;33m\u001b[0m\u001b[0m\n",
      "\u001b[1;31mNameError\u001b[0m: name 'df' is not defined"
     ]
    },
    {
     "data": {
      "image/png": "[encoded data removed]",
      "text/plain": [
       "<Figure size 576x360 with 1 Axes>"
      ]
     },
     "metadata": {
      "needs_background": "light"
     },
     "output_type": "display_data"
    }
   ],
   "source": [
    "fig = plt.figure(figsize=(8,5))\n",
    "ax = plt.gca()\n",
    "ohlc_chart(ax, df, colors=['r','b'])\n",
    "fig.autofmt_xdate()"
   ]
  },
  {
   "cell_type": "code",
   "execution_count": 7,
   "metadata": {},
   "outputs": [
    {
     "data": {
      "text/plain": [
       "{'name': 'Live Cattle',\n",
       " 'symbol': 'LC',\n",
       " 'currency': 'USD',\n",
       " 'exchange symbol': 'CME',\n",
       " 'exchange': '시카고상업거래소',\n",
       " 'market': 'MEATS',\n",
       " 'notation': ' 10',\n",
       " 'unit': '0.025000000',\n",
       " 'price per unit': '10.000000000',\n",
       " 'regulator factor': '0.0100000000',\n",
       " 'opening time': '23:30:00',\n",
       " 'closing time': '04:05:00',\n",
       " 'decimal length': 3,\n",
       " 'initial margin': '1650.00',\n",
       " 'maintanance margin': '1650.00',\n",
       " 'is tratable': True,\n",
       " 'last update': '2019-02-11 13:42:44',\n",
       " 'contracts': ['LCJ19', 'LCM19', 'LCQ19'],\n",
       " 'emini': False,\n",
       " 'parent': None,\n",
       " 'is exception': False}"
      ]
     },
     "execution_count": 7,
     "metadata": {},
     "output_type": "execute_result"
    }
   ],
   "source": [
    "products['LC'].info()"
   ]
  },
  {
   "cell_type": "code",
   "execution_count": 9,
   "metadata": {},
   "outputs": [],
   "source": [
    "products['LC'].active"
   ]
  },
  {
   "cell_type": "code",
   "execution_count": 10,
   "metadata": {},
   "outputs": [],
   "source": [
    "products['AD'].active"
   ]
  },
  {
   "cell_type": "code",
   "execution_count": null,
   "metadata": {},
   "outputs": [],
   "source": []
  }
 ],
 "metadata": {
  "kernelspec": {
   "display_name": "Python 3",
   "language": "python",
   "name": "python3"
  },
  "language_info": {
   "codemirror_mode": {
    "name": "ipython",
    "version": 3
   },
   "file_extension": ".py",
   "mimetype": "text/x-python",
   "name": "python",
   "nbconvert_exporter": "python",
   "pygments_lexer": "ipython3",
   "version": "3.7.1"
  }
 },
 "nbformat": 4,
 "nbformat_minor": 2
}
